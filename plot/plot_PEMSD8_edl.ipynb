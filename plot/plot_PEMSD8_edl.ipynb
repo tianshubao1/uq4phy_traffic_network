{
 "cells": [
  {
   "cell_type": "code",
   "execution_count": 6,
   "metadata": {},
   "outputs": [
    {
     "name": "stdout",
     "output_type": "stream",
     "text": [
      "['mis', 'width', 'mse', 'rmse', 'mae', 'prediction', 'truth']\n",
      "(12, 3584, 170)\n",
      "(12, 3584, 170)\n",
      "(12, 3584, 170)\n"
     ]
    }
   ],
   "source": [
    "import numpy as np\n",
    "import torch\n",
    "import matplotlib.pyplot as plt\n",
    "import os\n",
    "\n",
    "data_quantile_model = np.load('data/edl_MSE_PEMSD8_seed0.npz',allow_pickle=True)\n",
    "\n",
    "print(data_quantile_model.files)\n",
    "predeictions_quantile = data_quantile_model['prediction']\n",
    "truths_quantile = data_quantile_model['truth']\n",
    "print(predeictions_quantile.shape)\n",
    "print(truths_quantile.shape)\n",
    "averaged_predictions_quantile = predeictions_quantile\n",
    "#down_predictions_quantile = predeictions_quantile[:,:,:,0]\n",
    "#up_predictions_quantile = predeictions_quantile[:,:,:,2]\n",
    "print(averaged_predictions_quantile.shape)"
   ]
  },
  {
   "cell_type": "code",
   "execution_count": 7,
   "metadata": {},
   "outputs": [
    {
     "name": "stdout",
     "output_type": "stream",
     "text": [
      "['mis', 'width', 'mse', 'rmse', 'mae', 'prediction', 'truth']\n",
      "(12, 3584, 170)\n",
      "(12, 3584, 170)\n"
     ]
    }
   ],
   "source": [
    "\n",
    "data_gpde_quantile_model = np.load('data/gpde_edl_MSE_PEMSD8_seed0.npz',allow_pickle=True)\n",
    "\n",
    "print(data_gpde_quantile_model.files)\n",
    "\n",
    "predeictions_gpde_quantile = data_gpde_quantile_model['prediction']\n",
    "print(predeictions_gpde_quantile.shape)\n",
    "\n",
    "averaged_predictions_gpde_quantile = predeictions_gpde_quantile\n",
    "#down_predictions_gpde_quantile = predeictions_gpde_quantile[:,:,:,0]\n",
    "#up_predictions_gpde_quantile = predeictions_gpde_quantile[:,:,:,2]\n",
    "print(averaged_predictions_gpde_quantile.shape)"
   ]
  },
  {
   "cell_type": "code",
   "execution_count": 8,
   "metadata": {},
   "outputs": [
    {
     "name": "stdout",
     "output_type": "stream",
     "text": [
      "['mis', 'width', 'mse', 'rmse', 'mae', 'prediction', 'truth']\n",
      "(12, 3584, 170)\n",
      "(12, 3584, 170)\n"
     ]
    }
   ],
   "source": [
    "\n",
    "data_gpde_quantile_phy_model = np.load('data/gpde_phy_edl_MSE_PEMSD8_seed0.npz',allow_pickle=True)\n",
    "\n",
    "print(data_gpde_quantile_phy_model.files)\n",
    "\n",
    "predeictions_gpde_quantile_phy = data_gpde_quantile_phy_model['prediction']\n",
    "print(predeictions_gpde_quantile_phy.shape)\n",
    "\n",
    "averaged_predictions_gpde_quantile_phy = predeictions_gpde_quantile_phy\n",
    "#down_predictions_gpde_quantile_phy = predeictions_gpde_quantile_phy[:,:,:,0]\n",
    "#up_predictions_gpde_quantile_phy = predeictions_gpde_quantile_phy[:,:,:,2]\n",
    "print(averaged_predictions_gpde_quantile_phy.shape)"
   ]
  },
  {
   "cell_type": "code",
   "execution_count": null,
   "metadata": {},
   "outputs": [],
   "source": []
  }
 ],
 "metadata": {
  "kernelspec": {
   "display_name": "Python 3 (Spyder)",
   "language": "python3",
   "name": "python3"
  },
  "language_info": {
   "codemirror_mode": {
    "name": "ipython",
    "version": 3
   },
   "file_extension": ".py",
   "mimetype": "text/x-python",
   "name": "python",
   "nbconvert_exporter": "python",
   "pygments_lexer": "ipython3",
   "version": "3.12.4"
  }
 },
 "nbformat": 4,
 "nbformat_minor": 4
}
